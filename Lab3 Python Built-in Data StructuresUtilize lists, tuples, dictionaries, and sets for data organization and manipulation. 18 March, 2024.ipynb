{
  "nbformat": 4,
  "nbformat_minor": 0,
  "metadata": {
    "colab": {
      "provenance": []
    },
    "kernelspec": {
      "name": "python3",
      "display_name": "Python 3"
    },
    "language_info": {
      "name": "python"
    }
  },
  "cells": [
    {
      "cell_type": "markdown",
      "source": [
        "# Python Built-in Data Structures\n",
        "Objective: Explore Python's built-in data structures and their applications.\n",
        "Utilize lists, tuples, dictionaries, and sets for data organization and manipulation.\n",
        "Perform operations on these data structures to gain insights into their functionalities."
      ],
      "metadata": {
        "id": "A6NqnPKWfgt9"
      }
    },
    {
      "cell_type": "markdown",
      "source": [
        "In Python, the sequence of various data types is stored in a list. A list is a collection of different kinds of values or items. Since Python lists are mutable, we can change their elements after forming. The comma (,) and the square brackets [enclose the List's items] serve as separators."
      ],
      "metadata": {
        "id": "35tJLI5_gwaw"
      }
    },
    {
      "cell_type": "code",
      "execution_count": 1,
      "metadata": {
        "colab": {
          "base_uri": "https://localhost:8080/"
        },
        "id": "RGfMajk7fWhR",
        "outputId": "400e2880-8f19-4552-8831-424058239dd7"
      },
      "outputs": [
        {
          "output_type": "stream",
          "name": "stdout",
          "text": [
            "[1, 2, 'Python', 'Program', 15.9]\n",
            "['Amy', 'Ryan', 'Henry', 'Emma']\n",
            "<class 'list'>\n",
            "<class 'list'>\n"
          ]
        }
      ],
      "source": [
        "# a simple list\n",
        "list1 = [1, 2, \"Python\", \"Program\", 15.9]\n",
        "list2 = [\"Amy\", \"Ryan\", \"Henry\", \"Emma\"]\n",
        "\n",
        "# printing the list\n",
        "print(list1)\n",
        "print(list2)\n",
        "\n",
        "# printing the type of list\n",
        "print(type(list1))\n",
        "print(type(list2))"
      ]
    },
    {
      "cell_type": "code",
      "source": [
        "# list example in detail\n",
        "emp = [ \"John\", 102, \"USA\"]\n",
        "Dep1 = [ \"CS\",10]\n",
        "Dep2 = [ \"IT\",11]\n",
        "HOD_CS = [ 10,\"Mr. Holding\"]\n",
        "HOD_IT = [11, \"Mr. Bewon\"]\n",
        "print(\"printing employee data ...\")\n",
        "print(\" Name : %s, ID: %d, Country: %s\" %(emp[0], emp[1], emp[2]))\n",
        "print(\"printing departments ...\")\n",
        "print(\"Department 1:\\nName: %s, ID: %d\\n Department 2:\\n Name: %s, ID: %s\"%( Dep1[0], Dep2[1], Dep2[0], Dep2[1]))\n",
        "print(\"HOD Details ....\")\n",
        "print(\"CS HOD Name: %s, Id: %d\" %(HOD_CS[1], HOD_CS[0]))\n",
        "print(\"IT HOD Name: %s, Id: %d\" %(HOD_IT[1], HOD_IT[0]))\n",
        "print(type(emp), type(Dep1), type(Dep2), type(HOD_CS), type(HOD_IT))"
      ],
      "metadata": {
        "colab": {
          "base_uri": "https://localhost:8080/"
        },
        "id": "WWcZhMKhiPOx",
        "outputId": "b4be243b-0494-4203-a9a9-916c3181e884"
      },
      "execution_count": 2,
      "outputs": [
        {
          "output_type": "stream",
          "name": "stdout",
          "text": [
            "printing employee data ...\n",
            " Name : John, ID: 102, Country: USA\n",
            "printing departments ...\n",
            "Department 1:\n",
            "Name: CS, ID: 11\n",
            " Department 2:\n",
            " Name: IT, ID: 11\n",
            "HOD Details ....\n",
            "CS HOD Name: Mr. Holding, Id: 10\n",
            "IT HOD Name: Mr. Bewon, Id: 11\n",
            "<class 'list'> <class 'list'> <class 'list'> <class 'list'> <class 'list'>\n"
          ]
        }
      ]
    },
    {
      "cell_type": "markdown",
      "source": [
        "# List Indexing and Splitting\n",
        "The indexing procedure is carried out similarly to string processing. The slice operator [] can be used to get to the List's components.\n",
        "The index ranges from 0 to length -1. The 0th index is where the List's first element is stored; the 1st index is where the second element is stored, and so on."
      ],
      "metadata": {
        "id": "_QcwEJjlipxl"
      }
    },
    {
      "cell_type": "markdown",
      "source": [
        "![image.png](data:image/png;base64,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)"
      ],
      "metadata": {
        "id": "yVdnEcuVjiWr"
      }
    },
    {
      "cell_type": "markdown",
      "source": [
        "We can get the sub-list of the list using the following syntax.\n",
        "list_varible(start:stop:step)    "
      ],
      "metadata": {
        "id": "vOWP2NZDjxwj"
      }
    },
    {
      "cell_type": "code",
      "source": [
        "list = [1,2,3,4,5,6,7]\n",
        "print(list[0])\n",
        "print(list[1])\n",
        "print(list[2])\n",
        "print(list[3])\n",
        "# Slicing the elements\n",
        "print(list[0:6])\n",
        "# By default, the index value is 0 so its starts from the 0th element and go for index -1.\n",
        "print(list[:])\n",
        "print(list[2:5])\n",
        "print(list[1:6:2])"
      ],
      "metadata": {
        "colab": {
          "base_uri": "https://localhost:8080/"
        },
        "id": "Ijfk2cbSiiV9",
        "outputId": "f5ff3ce3-7aca-48d3-ca5e-fd34e9f0a214"
      },
      "execution_count": 3,
      "outputs": [
        {
          "output_type": "stream",
          "name": "stdout",
          "text": [
            "1\n",
            "2\n",
            "3\n",
            "4\n",
            "[1, 2, 3, 4, 5, 6]\n",
            "[1, 2, 3, 4, 5, 6, 7]\n",
            "[3, 4, 5]\n",
            "[2, 4, 6]\n"
          ]
        }
      ]
    },
    {
      "cell_type": "markdown",
      "source": [
        "# How to append element in the list\n",
        "Python provides built-in methods to append or add elements to the list. We can also append a list into another list.\n",
        "\n",
        "**These methods are given below**\n",
        "\n",
        "**append(elmt)** - It appends the value at the end of the list.\n",
        "**insert(index, elmt)** - It inserts the value at the specified index position.\n",
        "**extends(iterable)** - It extends the list by adding the iterable object."
      ],
      "metadata": {
        "id": "rbiDYcG_kesC"
      }
    },
    {
      "cell_type": "markdown",
      "source": [
        "# 1. append(elmt)\n",
        "This function is used to add the element at the end of the list."
      ],
      "metadata": {
        "id": "4R8Xet-ilNLG"
      }
    },
    {
      "cell_type": "code",
      "source": [
        "names = [\"Joseph\", \"Peter\", \"Cook\", \"Tim\"]\n",
        "\n",
        "print('Current names List is:', names)\n",
        "\n",
        "new_name = input(\"Please enter a name:\\n\")\n",
        "names.append(new_name)  # Using the append() function\n",
        "\n",
        "print('Updated name List is:', names)"
      ],
      "metadata": {
        "colab": {
          "base_uri": "https://localhost:8080/"
        },
        "id": "SsTecOqyk7NC",
        "outputId": "66cbb9a5-588b-47c2-f195-e7468e365b4d"
      },
      "execution_count": 4,
      "outputs": [
        {
          "output_type": "stream",
          "name": "stdout",
          "text": [
            "Current names List is: ['Joseph', 'Peter', 'Cook', 'Tim']\n",
            "Please enter a name:\n",
            "zeenat\n",
            "Updated name List is: ['Joseph', 'Peter', 'Cook', 'Tim', 'zeenat']\n"
          ]
        }
      ]
    },
    {
      "cell_type": "markdown",
      "source": [
        "# 2. insert(index, elmt)\n",
        "The insert() function adds the elements at the given an index position. It is beneficial when we want to insert element at a specific position."
      ],
      "metadata": {
        "id": "E3fGA1XDlmQ-"
      }
    },
    {
      "cell_type": "code",
      "source": [
        "list1 = [10, 20, 30, 40, 50]\n",
        "\n",
        "print('Current Numbers List: ', list1)\n",
        "\n",
        "el = list1.insert(3, 77)\n",
        "print(\"The new list is: \",list1)\n",
        "\n",
        "n = int(input(\"enter a number to add to list:\\n\"))\n",
        "\n",
        "index = int(input('enter the index to add the number:\\n'))\n",
        "\n",
        "list1.insert(index, n)\n",
        "\n",
        "print('Updated Numbers List:', list1)"
      ],
      "metadata": {
        "colab": {
          "base_uri": "https://localhost:8080/"
        },
        "id": "cFcy67zwlrSt",
        "outputId": "0ab299cd-56fc-449b-a8e0-56a7c0c6a0f9"
      },
      "execution_count": 6,
      "outputs": [
        {
          "output_type": "stream",
          "name": "stdout",
          "text": [
            "Current Numbers List:  [10, 20, 30, 40, 50]\n",
            "The new list is:  [10, 20, 30, 77, 40, 50]\n",
            "enter a number to add to list:\n",
            "4\n",
            "enter the index to add the number:\n",
            "1\n",
            "Updated Numbers List: [10, 4, 20, 30, 77, 40, 50]\n"
          ]
        }
      ]
    },
    {
      "cell_type": "markdown",
      "source": [
        "# 3. extend(iterable)\n",
        "The extends() function is used to add the iterable elements to the list. It accepts iterable object as an argument. Below is the example of adding iterable element."
      ],
      "metadata": {
        "id": "_xPkt7jPmRgI"
      }
    },
    {
      "cell_type": "code",
      "source": [
        "list1 = [10,20,30]\n",
        "list1.extend([\"52.10\", \"43.12\" ])  # extending list elements\n",
        "print(list1)\n",
        "list1.extend((40, 30))  # extending tuple elements\n",
        "print(list1)\n",
        "list1.extend(\"Apple\")  # extending string elements\n",
        "print(list1)"
      ],
      "metadata": {
        "colab": {
          "base_uri": "https://localhost:8080/"
        },
        "id": "hdC_75RbmWUC",
        "outputId": "af4b0556-57b8-4d95-f9a0-b7e1e8236700"
      },
      "execution_count": 7,
      "outputs": [
        {
          "output_type": "stream",
          "name": "stdout",
          "text": [
            "[10, 20, 30, '52.10', '43.12']\n",
            "[10, 20, 30, '52.10', '43.12', 40, 30]\n",
            "[10, 20, 30, '52.10', '43.12', 40, 30, 'A', 'p', 'p', 'l', 'e']\n"
          ]
        }
      ]
    },
    {
      "cell_type": "markdown",
      "source": [
        "# **Python Tuples**\n",
        "A comma-separated group of items is called a Python triple. The ordering, settled items, and reiterations of a tuple are to some degree like those of a rundown, but in contrast to a rundown, a tuple is unchanging.\n",
        "\n",
        "The main difference between the two is that we cannot alter the components of a tuple once they have been assigned. On the other hand, we can edit the contents of a list."
      ],
      "metadata": {
        "id": "HRGTcj98m2r9"
      }
    },
    {
      "cell_type": "markdown",
      "source": [
        "(\"Suzuki\", \"Audi\", \"BMW\",\" Skoda \") is a tuple."
      ],
      "metadata": {
        "id": "CZ2k2sBGnL-l"
      }
    },
    {
      "cell_type": "code",
      "source": [
        "# Python program to show how to create a tuple\n",
        "# Creating an empty tuple\n",
        "empty_tuple = ()\n",
        "print(\"Empty tuple: \", empty_tuple)\n",
        "\n",
        "# Creating tuple having integers\n",
        "int_tuple = (4, 6, 8, 10, 12, 14)\n",
        "print(\"Tuple with integers: \", int_tuple)\n",
        "\n",
        "# Creating a tuple having objects of different data types\n",
        "mixed_tuple = (4, \"Python\", 9.3)\n",
        "print(\"Tuple with different data types: \", mixed_tuple)\n",
        "\n",
        "# Creating a nested tuple\n",
        "nested_tuple = (\"Python\", {4: 5, 6: 2, 8:2}, (5, 3, 5, 6))\n",
        "print(\"A nested tuple: \", nested_tuple)"
      ],
      "metadata": {
        "colab": {
          "base_uri": "https://localhost:8080/"
        },
        "id": "wmXO6Cg8nRqG",
        "outputId": "f9d25992-6d45-4ada-a638-24deeb240ed2"
      },
      "execution_count": 8,
      "outputs": [
        {
          "output_type": "stream",
          "name": "stdout",
          "text": [
            "Empty tuple:  ()\n",
            "Tuple with integers:  (4, 6, 8, 10, 12, 14)\n",
            "Tuple with different data types:  (4, 'Python', 9.3)\n",
            "A nested tuple:  ('Python', {4: 5, 6: 2, 8: 2}, (5, 3, 5, 6))\n"
          ]
        }
      ]
    },
    {
      "cell_type": "markdown",
      "source": [
        "Parentheses are not necessary for the construction of multiples. This is known as triple pressing."
      ],
      "metadata": {
        "id": "KKVcrFVXnr3f"
      }
    },
    {
      "cell_type": "code",
      "source": [
        "# Python program to create a tuple without using parentheses\n",
        "# Creating a tuple\n",
        "tuple_ = 4, 5.7, \"Tuples\", [\"Python\", \"Tuples\"]\n",
        "# Displaying the tuple created\n",
        "print(tuple_)\n",
        "# Checking the data type of object tuple_\n",
        "print(type(tuple_) )\n",
        "# Trying to modify tuple_\n",
        "try:\n",
        "    tuple_[1] = 4.2\n",
        "except:\n",
        "    print(TypeError )"
      ],
      "metadata": {
        "colab": {
          "base_uri": "https://localhost:8080/"
        },
        "id": "K20wUdRvntrD",
        "outputId": "2b0b1f30-f88d-45d0-db7c-f9adbde5b742"
      },
      "execution_count": 9,
      "outputs": [
        {
          "output_type": "stream",
          "name": "stdout",
          "text": [
            "(4, 5.7, 'Tuples', ['Python', 'Tuples'])\n",
            "<class 'tuple'>\n",
            "<class 'TypeError'>\n"
          ]
        }
      ]
    },
    {
      "cell_type": "markdown",
      "source": [
        "# Python List Vs Tuple\n",
        "Lists and tuples are types of data structures that hold one or more than one objects or items in a predefined order. We can contain objects of any data type in a list or tuple, including the null data type defined by the None Keyword.\n",
        "\n",
        "\n",
        "**What is a List?**\n",
        "In other programming languages, list objects are declared similarly to arrays. Lists don't have to be homogeneous all the time, so they can simultaneously store items of different data types. This makes lists the most useful tool. The list is a kind of container data Structure of Python that is used to hold numerous pieces of data simultaneously. Lists are helpful when we need to iterate over some elements and keep hold of the items.\n",
        "\n",
        "**What is a Tuple?**\n",
        "A tuple is another data structure to store the collection of items of many data types, but unlike mutable lists, tuples are immutable. A tuple, in other words, is a collection of items separated by commas. Because of its static structure, the tuple is more efficient than the list"
      ],
      "metadata": {
        "id": "VqbuQ5uypsiP"
      }
    },
    {
      "cell_type": "markdown",
      "source": [
        "# List and Tuple Syntax Differences\n",
        "The syntax of a list differs from that of a tuple. Items of a tuple are enclosed by parentheses or curved brackets (), whereas items of a list are enclosed by square brackets []."
      ],
      "metadata": {
        "id": "Rh-9wpPwqPfN"
      }
    },
    {
      "cell_type": "code",
      "source": [
        "# Python code to show the difference between creating a list and a tuple\n",
        "\n",
        "list_ = [4, 5, 7, 1, 7]\n",
        "tuple_ = (4, 1, 8, 3, 9)\n",
        "\n",
        "print(\"List is: \", list_)\n",
        "print(\"Tuple is: \", tuple_)"
      ],
      "metadata": {
        "colab": {
          "base_uri": "https://localhost:8080/"
        },
        "id": "tcW4P_2wqJeb",
        "outputId": "981f6cf2-358a-427d-9f54-f297ad0939eb"
      },
      "execution_count": 10,
      "outputs": [
        {
          "output_type": "stream",
          "name": "stdout",
          "text": [
            "List is:  [4, 5, 7, 1, 7]\n",
            "Tuple is:  (4, 1, 8, 3, 9)\n"
          ]
        }
      ]
    },
    {
      "cell_type": "code",
      "source": [
        "# Code to print the data type of the data structure using the type() function\n",
        "print( type(list_) )\n",
        "print( type(tuple_) )"
      ],
      "metadata": {
        "colab": {
          "base_uri": "https://localhost:8080/"
        },
        "id": "Ofq2Ah0EqkNc",
        "outputId": "15b4f0c2-4b69-4cb6-da61-c7869a87c901"
      },
      "execution_count": 11,
      "outputs": [
        {
          "output_type": "stream",
          "name": "stdout",
          "text": [
            "<class 'list'>\n",
            "<class 'tuple'>\n"
          ]
        }
      ]
    },
    {
      "cell_type": "markdown",
      "source": [
        "# Python Set\n",
        "A Python set is the collection of the unordered items. Each element in the set must be unique, immutable, and the sets remove the duplicate elements. Sets are mutable which means we can modify it after its creation."
      ],
      "metadata": {
        "id": "jfJ_VQcKrgej"
      }
    },
    {
      "cell_type": "markdown",
      "source": [
        "# Creating a set\n",
        "\n",
        "The set can be created by enclosing the comma-separated immutable items with the curly braces {}. Python also provides the set() method, which can be used to create the set by the passed sequence."
      ],
      "metadata": {
        "id": "J3LSRYHXrx4M"
      }
    },
    {
      "cell_type": "code",
      "source": [
        "###### Using curly braces\n",
        "Days = {\"Monday\", \"Tuesday\", \"Wednesday\", \"Thursday\", \"Friday\", \"Saturday\", \"Sunday\"}\n",
        "print(Days)\n",
        "print(type(Days))\n",
        "print(\"looping through the set elements ... \")\n",
        "for i in Days:\n",
        "    print(i)"
      ],
      "metadata": {
        "colab": {
          "base_uri": "https://localhost:8080/"
        },
        "id": "4WXPj01krkUZ",
        "outputId": "da9289a9-11bc-4872-9670-ff5f47ee8d1a"
      },
      "execution_count": 12,
      "outputs": [
        {
          "output_type": "stream",
          "name": "stdout",
          "text": [
            "{'Tuesday', 'Thursday', 'Friday', 'Sunday', 'Wednesday', 'Saturday', 'Monday'}\n",
            "<class 'set'>\n",
            "looping through the set elements ... \n",
            "Tuesday\n",
            "Thursday\n",
            "Friday\n",
            "Sunday\n",
            "Wednesday\n",
            "Saturday\n",
            "Monday\n"
          ]
        }
      ]
    },
    {
      "cell_type": "code",
      "source": [
        "##### Using set() method\n",
        "Days = set([\"Monday\", \"Tuesday\", \"Wednesday\", \"Thursday\", \"Friday\", \"Saturday\", \"Sunday\"])\n",
        "print(Days)\n",
        "print(type(Days))\n",
        "print(\"looping through the set elements ... \")\n",
        "for i in Days:\n",
        "    print(i)"
      ],
      "metadata": {
        "colab": {
          "base_uri": "https://localhost:8080/"
        },
        "id": "ynDg_-CmsL1C",
        "outputId": "560d4174-01a9-4c6c-c9ce-4b9965e43b3d"
      },
      "execution_count": 15,
      "outputs": [
        {
          "output_type": "stream",
          "name": "stdout",
          "text": [
            "{'Friday', 'Monday', 'Sunday', 'Wednesday', 'Saturday', 'Thursday', 'Tuesday'}\n",
            "<class 'set'>\n",
            "looping through the set elements ... \n",
            "Friday\n",
            "Monday\n",
            "Sunday\n",
            "Wednesday\n",
            "Saturday\n",
            "Thursday\n",
            "Tuesday\n"
          ]
        }
      ]
    },
    {
      "cell_type": "markdown",
      "source": [
        "# Adding items to the set\n",
        "Python provides the add() method and update() method which can be used to add some particular item to the set. The add() method is used to add a single element whereas the update() method is used to add multiple elements to the set"
      ],
      "metadata": {
        "id": "JunU0Ggxscn2"
      }
    },
    {
      "cell_type": "code",
      "source": [
        "######  Using add() method\n",
        "Months = set([\"January\",\"February\", \"March\", \"April\", \"May\", \"June\"])\n",
        "print(\"\\nprinting the original set ... \")\n",
        "print(Months)\n",
        "print(\"\\nAdding other months to the set...\");\n",
        "Months.add(\"July\");\n",
        "Months.add (\"August\");\n",
        "print(\"\\nPrinting the modified set...\");\n",
        "print(Months)\n",
        "print(\"\\nlooping through the set elements ... \")\n",
        "for i in Months:\n",
        "    print(i)"
      ],
      "metadata": {
        "colab": {
          "base_uri": "https://localhost:8080/"
        },
        "id": "fWjhbSRlsl2_",
        "outputId": "ecb6f257-419a-4e08-cb82-d38658f2027e"
      },
      "execution_count": 18,
      "outputs": [
        {
          "output_type": "stream",
          "name": "stdout",
          "text": [
            "\n",
            "printing the original set ... \n",
            "{'March', 'April', 'June', 'January', 'May', 'February'}\n",
            "\n",
            "Adding other months to the set...\n",
            "\n",
            "Printing the modified set...\n",
            "{'August', 'March', 'April', 'July', 'June', 'January', 'May', 'February'}\n",
            "\n",
            "looping through the set elements ... \n",
            "August\n",
            "March\n",
            "April\n",
            "July\n",
            "June\n",
            "January\n",
            "May\n",
            "February\n"
          ]
        }
      ]
    },
    {
      "cell_type": "markdown",
      "source": [
        "# Using update() function"
      ],
      "metadata": {
        "id": "4ERFMXQlxKgZ"
      }
    },
    {
      "cell_type": "code",
      "source": [
        "Months = set([\"January\",\"February\", \"March\", \"April\", \"May\", \"June\"])\n",
        "print(\"\\nprinting the original set ... \")\n",
        "print(Months)\n",
        "print(\"\\nupdating the original set ... \")\n",
        "Months.update([\"July\",\"August\",\"September\",\"October\"]);\n",
        "print(\"\\nprinting the modified set ... \")\n",
        "print(Months);"
      ],
      "metadata": {
        "colab": {
          "base_uri": "https://localhost:8080/"
        },
        "id": "2bHRgY6kxOla",
        "outputId": "2ad48483-5e45-4d98-d278-f75b7bcaedd3"
      },
      "execution_count": 19,
      "outputs": [
        {
          "output_type": "stream",
          "name": "stdout",
          "text": [
            "\n",
            "printing the original set ... \n",
            "{'March', 'April', 'June', 'January', 'May', 'February'}\n",
            "\n",
            "updating the original set ... \n",
            "\n",
            "printing the modified set ... \n",
            "{'August', 'March', 'April', 'July', 'June', 'September', 'January', 'May', 'October', 'February'}\n"
          ]
        }
      ]
    },
    {
      "cell_type": "markdown",
      "source": [
        "# Removing items from the set\n",
        "Python provides the discard() method and remove() method which can be used to remove the items from the set. The difference between these function, using discard() function if the item does not exist in the set then the set remain unchanged whereas remove() method will through an error."
      ],
      "metadata": {
        "id": "3_Fb5opSxU5R"
      }
    },
    {
      "cell_type": "markdown",
      "source": [
        "# Using discard() method"
      ],
      "metadata": {
        "id": "RcCTXQJpxdpL"
      }
    },
    {
      "cell_type": "code",
      "source": [
        "months = set([\"January\",\"February\", \"March\", \"April\", \"May\", \"June\"])\n",
        "print(\"\\nprinting the original set ... \")\n",
        "print(months)\n",
        "print(\"\\nRemoving some months from the set...\");\n",
        "months.discard(\"January\");\n",
        "months.discard(\"May\");\n",
        "print(\"\\nPrinting the modified set...\");\n",
        "print(months)\n",
        "print(\"\\nlooping through the set elements ... \")\n",
        "for i in months:\n",
        "    print(i)"
      ],
      "metadata": {
        "colab": {
          "base_uri": "https://localhost:8080/"
        },
        "id": "99KXDtd4xfcr",
        "outputId": "2615e5ae-9a43-4c90-d4ac-d9a057b99070"
      },
      "execution_count": 20,
      "outputs": [
        {
          "output_type": "stream",
          "name": "stdout",
          "text": [
            "\n",
            "printing the original set ... \n",
            "{'March', 'April', 'June', 'January', 'May', 'February'}\n",
            "\n",
            "Removing some months from the set...\n",
            "\n",
            "Printing the modified set...\n",
            "{'March', 'April', 'June', 'February'}\n",
            "\n",
            "looping through the set elements ... \n",
            "March\n",
            "April\n",
            "June\n",
            "February\n"
          ]
        }
      ]
    },
    {
      "cell_type": "markdown",
      "source": [
        "# Using remove() function"
      ],
      "metadata": {
        "id": "u0NJCbszxrSd"
      }
    },
    {
      "cell_type": "code",
      "source": [
        "months = set([\"January\",\"February\", \"March\", \"April\", \"May\", \"June\"])\n",
        "print(\"\\nprinting the original set ... \")\n",
        "print(months)\n",
        "print(\"\\nRemoving some months from the set...\");\n",
        "months.remove(\"January\");\n",
        "months.remove(\"May\");\n",
        "print(\"\\nPrinting the modified set...\");\n",
        "print(months)"
      ],
      "metadata": {
        "colab": {
          "base_uri": "https://localhost:8080/"
        },
        "id": "22A-4xjLxtmo",
        "outputId": "af4e0c20-7116-48e3-d9f6-a7a20801fd53"
      },
      "execution_count": 21,
      "outputs": [
        {
          "output_type": "stream",
          "name": "stdout",
          "text": [
            "\n",
            "printing the original set ... \n",
            "{'March', 'April', 'June', 'January', 'May', 'February'}\n",
            "\n",
            "Removing some months from the set...\n",
            "\n",
            "Printing the modified set...\n",
            "{'March', 'April', 'June', 'February'}\n"
          ]
        }
      ]
    },
    {
      "cell_type": "markdown",
      "source": [
        "# **Python Dictionary**\n",
        "Dictionaries are a useful data structure for storing data in Python because they are capable of imitating real-world data arrangements where a certain value exists for a given key.\n",
        "\n",
        "The data is stored as key-value pairs using a Python dictionary."
      ],
      "metadata": {
        "id": "fOXfVac7yakl"
      }
    },
    {
      "cell_type": "markdown",
      "source": [
        "# Creating the Dictionary\n",
        "Curly brackets are the simplest way to generate a Python dictionary, although there are other approaches as well. With many key-value pairs surrounded in curly brackets and a colon separating each key from its value, the dictionary can be built. (:). The following provides the syntax for defining the dictionary."
      ],
      "metadata": {
        "id": "Cl-71w5Iyl3T"
      }
    },
    {
      "cell_type": "markdown",
      "source": [
        "Syntax:\n",
        "Dict = {\"Name\": \"Gayle\", \"Age\": 25}   "
      ],
      "metadata": {
        "id": "q0G68LQ7ywGc"
      }
    },
    {
      "cell_type": "code",
      "source": [
        "Employee = {\"Name\": \"Johnny\", \"Age\": 32, \"salary\":26000,\"Company\":\"^TCS\"}\n",
        "print(type(Employee))\n",
        "print(\"printing Employee data .... \")\n",
        "print(Employee)"
      ],
      "metadata": {
        "colab": {
          "base_uri": "https://localhost:8080/"
        },
        "id": "gGaALBrkyqg2",
        "outputId": "80507417-6519-44c8-d2b4-b65f368b2fa5"
      },
      "execution_count": 22,
      "outputs": [
        {
          "output_type": "stream",
          "name": "stdout",
          "text": [
            "<class 'dict'>\n",
            "printing Employee data .... \n",
            "{'Name': 'Johnny', 'Age': 32, 'salary': 26000, 'Company': '^TCS'}\n"
          ]
        }
      ]
    },
    {
      "cell_type": "markdown",
      "source": [
        "# Accessing the dictionary values"
      ],
      "metadata": {
        "id": "Y5ZahFUvzPTo"
      }
    },
    {
      "cell_type": "code",
      "source": [
        "Employee = {\"Name\": \"Dev\", \"Age\": 20, \"salary\":45000,\"Company\":\"WIPRO\"}\n",
        "print(type(Employee))\n",
        "print(\"printing Employee data .... \")\n",
        "print(\"Name : %s\" %Employee[\"Name\"])\n",
        "print(\"Age : %d\" %Employee[\"Age\"])\n",
        "print(\"Salary : %d\" %Employee[\"salary\"])\n",
        "print(\"Company : %s\" %Employee[\"Company\"])"
      ],
      "metadata": {
        "colab": {
          "base_uri": "https://localhost:8080/"
        },
        "id": "WymLFm0czYOW",
        "outputId": "91681796-b46f-4cca-d939-9f41bb75d991"
      },
      "execution_count": 24,
      "outputs": [
        {
          "output_type": "stream",
          "name": "stdout",
          "text": [
            "<class 'dict'>\n",
            "printing Employee data .... \n",
            "Name : Dev\n",
            "Age : 20\n",
            "Salary : 45000\n",
            "Company : WIPRO\n"
          ]
        }
      ]
    },
    {
      "cell_type": "markdown",
      "source": [
        "# Built-in Dictionary Functions\n",
        "len()\n",
        "The dictionary's length is returned via the len() function in Python. The string is lengthened by one for each key-value pair."
      ],
      "metadata": {
        "id": "S3Ye-9No0RpF"
      }
    },
    {
      "cell_type": "code",
      "source": [
        "dict = {1: \"Ayan\", 2: \"Bunny\", 3: \"Ram\", 4: \"Bheem\"}\n",
        "len(dict)"
      ],
      "metadata": {
        "colab": {
          "base_uri": "https://localhost:8080/"
        },
        "id": "xaieAV5L0XXp",
        "outputId": "5a1f10e3-4f1c-4b70-a5ca-a3921eaa81b3"
      },
      "execution_count": 27,
      "outputs": [
        {
          "output_type": "execute_result",
          "data": {
            "text/plain": [
              "4"
            ]
          },
          "metadata": {},
          "execution_count": 27
        }
      ]
    },
    {
      "cell_type": "markdown",
      "source": [
        "any()\n",
        "Like how it does with lists and tuples, the any() method returns True indeed if one dictionary key does have a Boolean expression that evaluates to True."
      ],
      "metadata": {
        "id": "RcXZXLnF0a3X"
      }
    },
    {
      "cell_type": "code",
      "source": [
        "dict = {1: \"Ayan\", 2: \"Bunny\", 3: \"Ram\", 4: \"Bheem\"}\n",
        "any({'':'','':'','3':''})\n"
      ],
      "metadata": {
        "colab": {
          "base_uri": "https://localhost:8080/"
        },
        "id": "PqT68Elu0fIO",
        "outputId": "f5f55643-5420-44c9-b26a-67dfd07f50f6"
      },
      "execution_count": 28,
      "outputs": [
        {
          "output_type": "execute_result",
          "data": {
            "text/plain": [
              "True"
            ]
          },
          "metadata": {},
          "execution_count": 28
        }
      ]
    },
    {
      "cell_type": "markdown",
      "source": [
        "all()\n",
        "Unlike in any() method, all() only returns True if each of the dictionary's keys contain a True Boolean value."
      ],
      "metadata": {
        "id": "1WxW8kqG0tHC"
      }
    },
    {
      "cell_type": "code",
      "source": [
        "dict = {1: \"Ayan\", 2: \"Bunny\", 3: \"Ram\", 4: \"Bheem\"}\n",
        "all({1:'',2:'','':''})"
      ],
      "metadata": {
        "colab": {
          "base_uri": "https://localhost:8080/"
        },
        "id": "ZyxyKUcL0uum",
        "outputId": "9e5f9078-9eda-42d8-a6c1-220870bac325"
      },
      "execution_count": 29,
      "outputs": [
        {
          "output_type": "execute_result",
          "data": {
            "text/plain": [
              "False"
            ]
          },
          "metadata": {},
          "execution_count": 29
        }
      ]
    },
    {
      "cell_type": "markdown",
      "source": [
        "sorted()\n",
        "Like it does with lists and tuples, the sorted() method returns an ordered series of the dictionary's keys. The ascending sorting has no effect on the original Python dictionary."
      ],
      "metadata": {
        "id": "maqY1ks800xo"
      }
    },
    {
      "cell_type": "code",
      "source": [
        "dict = {7: \"Ayan\", 5: \"Bunny\", 8: \"Ram\", 1: \"Bheem\"}\n",
        "sorted(dict)"
      ],
      "metadata": {
        "colab": {
          "base_uri": "https://localhost:8080/"
        },
        "id": "R8zETxr502CF",
        "outputId": "5da6e2c1-e3cd-46c9-e3fc-058ba1c91090"
      },
      "execution_count": 30,
      "outputs": [
        {
          "output_type": "execute_result",
          "data": {
            "text/plain": [
              "[1, 5, 7, 8]"
            ]
          },
          "metadata": {},
          "execution_count": 30
        }
      ]
    },
    {
      "cell_type": "markdown",
      "source": [
        "# **Built-in Dictionary methods**\n",
        "\n",
        "clear()\n",
        "It is mainly used to delete all the items of the dictionary."
      ],
      "metadata": {
        "id": "BLIX6AhJ08kY"
      }
    },
    {
      "cell_type": "code",
      "source": [
        "# dictionary methods\n",
        "dict = {1: \"Hcl\", 2: \"WIPRO\", 3: \"Facebook\", 4: \"Amazon\", 5: \"Flipkart\"}\n",
        "# clear() method\n",
        "dict.clear()\n",
        "print(dict)"
      ],
      "metadata": {
        "colab": {
          "base_uri": "https://localhost:8080/"
        },
        "id": "WfQ_Bbn71DUy",
        "outputId": "cace1d4f-d558-4716-e063-a7a123f5405b"
      },
      "execution_count": 31,
      "outputs": [
        {
          "output_type": "stream",
          "name": "stdout",
          "text": [
            "{}\n"
          ]
        }
      ]
    },
    {
      "cell_type": "markdown",
      "source": [
        "copy()\n",
        "It returns a shallow copy of the dictionary which is created."
      ],
      "metadata": {
        "id": "8efgLhzg1Kp_"
      }
    },
    {
      "cell_type": "code",
      "source": [
        "# dictionary methods\n",
        "dict = {1: \"Hcl\", 2: \"WIPRO\", 3: \"Facebook\", 4: \"Amazon\", 5: \"Flipkart\"}\n",
        "# copy() method\n",
        "dict_demo = dict.copy()\n",
        "print(dict_demo)"
      ],
      "metadata": {
        "colab": {
          "base_uri": "https://localhost:8080/"
        },
        "id": "1xP0rnf71J90",
        "outputId": "f2f85dc6-40d3-4a14-82c5-8ab040463eb4"
      },
      "execution_count": 32,
      "outputs": [
        {
          "output_type": "stream",
          "name": "stdout",
          "text": [
            "{1: 'Hcl', 2: 'WIPRO', 3: 'Facebook', 4: 'Amazon', 5: 'Flipkart'}\n"
          ]
        }
      ]
    },
    {
      "cell_type": "markdown",
      "source": [
        "pop()\n",
        "It mainly eliminates the element using the defined key."
      ],
      "metadata": {
        "id": "FThYljCb1SQw"
      }
    },
    {
      "cell_type": "code",
      "source": [
        "# dictionary methods\n",
        "dict = {1: \"Hcl\", 2: \"WIPRO\", 3: \"Facebook\", 4: \"Amazon\", 5: \"Flipkart\"}\n",
        "# pop() method\n",
        "dict_demo = dict.copy()\n",
        "x = dict_demo.pop(1)\n",
        "print(x)"
      ],
      "metadata": {
        "colab": {
          "base_uri": "https://localhost:8080/"
        },
        "id": "AobbjXDI1Tlg",
        "outputId": "2157e863-d0ed-460e-c093-79bd348e3c39"
      },
      "execution_count": 33,
      "outputs": [
        {
          "output_type": "stream",
          "name": "stdout",
          "text": [
            "Hcl\n"
          ]
        }
      ]
    },
    {
      "cell_type": "markdown",
      "source": [
        "popitem()\n",
        "removes the most recent key-value pair entered"
      ],
      "metadata": {
        "id": "sj4Ggk2e1azr"
      }
    },
    {
      "cell_type": "code",
      "source": [
        "# dictionary methods\n",
        "dict = {1: \"Hcl\", 2: \"WIPRO\", 3: \"Facebook\", 4: \"Amazon\", 5: \"Flipkart\"}\n",
        "# popitem() method\n",
        "dict_demo.popitem()\n",
        "print(dict_demo)"
      ],
      "metadata": {
        "colab": {
          "base_uri": "https://localhost:8080/"
        },
        "id": "eq2vEa871e6C",
        "outputId": "578866b0-e93b-4e66-9c81-a35d92df755c"
      },
      "execution_count": 34,
      "outputs": [
        {
          "output_type": "stream",
          "name": "stdout",
          "text": [
            "{2: 'WIPRO', 3: 'Facebook', 4: 'Amazon'}\n"
          ]
        }
      ]
    },
    {
      "cell_type": "markdown",
      "source": [
        "keys()\n",
        "It returns all the keys of the dictionary."
      ],
      "metadata": {
        "id": "Lzev7ZDI1kkk"
      }
    },
    {
      "cell_type": "code",
      "source": [
        "# dictionary methods\n",
        "dict = {1: \"Hcl\", 2: \"WIPRO\", 3: \"Facebook\", 4: \"Amazon\", 5: \"Flipkart\"}\n",
        "# keys() method\n",
        "print(dict_demo.keys())"
      ],
      "metadata": {
        "colab": {
          "base_uri": "https://localhost:8080/"
        },
        "id": "fEiI59pa1llg",
        "outputId": "7285f2b5-00e0-49bf-8247-d7c8fc19654a"
      },
      "execution_count": 35,
      "outputs": [
        {
          "output_type": "stream",
          "name": "stdout",
          "text": [
            "dict_keys([2, 3, 4])\n"
          ]
        }
      ]
    },
    {
      "cell_type": "markdown",
      "source": [
        "items()It returns all the key-value pairs as a tuple."
      ],
      "metadata": {
        "id": "XxZ0CGAq1rms"
      }
    },
    {
      "cell_type": "code",
      "source": [
        "# dictionary methods\n",
        "dict = {1: \"Hcl\", 2: \"WIPRO\", 3: \"Facebook\", 4: \"Amazon\", 5: \"Flipkart\"}\n",
        "# items() method\n",
        "print(dict_demo.items())"
      ],
      "metadata": {
        "colab": {
          "base_uri": "https://localhost:8080/"
        },
        "id": "tox86rCQ1wvI",
        "outputId": "9b2fea51-96f6-4f97-8e7d-b0dbae3e898e"
      },
      "execution_count": 36,
      "outputs": [
        {
          "output_type": "stream",
          "name": "stdout",
          "text": [
            "dict_items([(2, 'WIPRO'), (3, 'Facebook'), (4, 'Amazon')])\n"
          ]
        }
      ]
    },
    {
      "cell_type": "markdown",
      "source": [
        "get()\n",
        "It is used to get the value specified for the passed key."
      ],
      "metadata": {
        "id": "7Uwe3_3y10rf"
      }
    },
    {
      "cell_type": "code",
      "source": [
        "# dictionary methods\n",
        "dict = {1: \"Hcl\", 2: \"WIPRO\", 3: \"Facebook\", 4: \"Amazon\", 5: \"Flipkart\"}\n",
        "# get() method\n",
        "print(dict_demo.get(3))"
      ],
      "metadata": {
        "colab": {
          "base_uri": "https://localhost:8080/"
        },
        "id": "ttuknIrU12YR",
        "outputId": "e9d7b390-301b-4b63-8bfd-9e45ae9749ac"
      },
      "execution_count": 37,
      "outputs": [
        {
          "output_type": "stream",
          "name": "stdout",
          "text": [
            "Facebook\n"
          ]
        }
      ]
    },
    {
      "cell_type": "markdown",
      "source": [
        "update()\n",
        "It mainly updates all the dictionary by adding the key-value pair of dict2 to this dictionary."
      ],
      "metadata": {
        "id": "YBY_g-5a18ea"
      }
    },
    {
      "cell_type": "code",
      "source": [
        "# dictionary methods\n",
        "dict = {1: \"Hcl\", 2: \"WIPRO\", 3: \"Facebook\", 4: \"Amazon\", 5: \"Flipkart\"}\n",
        "# update() method\n",
        "dict_demo.update({3: \"TCS\"})\n",
        "print(dict_demo)"
      ],
      "metadata": {
        "colab": {
          "base_uri": "https://localhost:8080/"
        },
        "id": "YiNLXNZ-19tq",
        "outputId": "86144365-9d2d-46b8-cc31-ae355e484213"
      },
      "execution_count": 38,
      "outputs": [
        {
          "output_type": "stream",
          "name": "stdout",
          "text": [
            "{2: 'WIPRO', 3: 'TCS', 4: 'Amazon'}\n"
          ]
        }
      ]
    },
    {
      "cell_type": "markdown",
      "source": [
        "values()  It returns all the values of the dictionary with respect to given input."
      ],
      "metadata": {
        "id": "3Kms-Re12DGX"
      }
    },
    {
      "cell_type": "code",
      "source": [
        "# dictionary methods\n",
        "dict = {1: \"Hcl\", 2: \"WIPRO\", 3: \"Facebook\", 4: \"Amazon\", 5: \"Flipkart\"}\n",
        "# values() method\n",
        "print(dict_demo.values())"
      ],
      "metadata": {
        "id": "SEsPaiQ12Ggl"
      },
      "execution_count": null,
      "outputs": []
    }
  ]
}